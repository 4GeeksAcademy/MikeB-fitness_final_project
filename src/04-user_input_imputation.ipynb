{
 "cells": [
  {
   "cell_type": "markdown",
   "id": "8388219e",
   "metadata": {},
   "source": [
    "# User input imputation"
   ]
  },
  {
   "cell_type": "code",
   "execution_count": null,
   "id": "371f1bc5",
   "metadata": {},
   "outputs": [],
   "source": [
    "import pickle\n",
    "from pathlib import Path"
   ]
  },
  {
   "cell_type": "markdown",
   "id": "c9512e76",
   "metadata": {},
   "source": [
    "## 1. Generate data with NaN"
   ]
  },
  {
   "cell_type": "code",
   "execution_count": null,
   "id": "4660126d",
   "metadata": {},
   "outputs": [],
   "source": [
    "# Your code here... Generate a dataset with 20-30% NaN values randomly distributed in the 'biometric' features."
   ]
  },
  {
   "cell_type": "markdown",
   "id": "f16b2b82",
   "metadata": {},
   "source": [
    "## 2. Train imputer"
   ]
  },
  {
   "cell_type": "code",
   "execution_count": null,
   "id": "9416f9e9",
   "metadata": {},
   "outputs": [],
   "source": [
    "# Your code here... Train a SciKit-Learn imputer to fill the missing values."
   ]
  },
  {
   "cell_type": "markdown",
   "id": "da952547",
   "metadata": {},
   "source": [
    "## 3. Evaluate"
   ]
  },
  {
   "cell_type": "code",
   "execution_count": null,
   "id": "00b97777",
   "metadata": {},
   "outputs": [],
   "source": [
    "# Your code here... Come up with a strategy to measure how good the imputation is."
   ]
  },
  {
   "cell_type": "markdown",
   "id": "3e1a8f98",
   "metadata": {},
   "source": [
    "## 4. Save"
   ]
  },
  {
   "cell_type": "code",
   "execution_count": null,
   "id": "8a895e17",
   "metadata": {},
   "outputs": [],
   "source": [
    "Path('../models').mkdir(exist_ok=True)\n",
    "\n",
    "with open('../models/imputer.pkl', 'wb') as output_file:\n",
    "    pickle.dump(imputer, output_file)"
   ]
  }
 ],
 "metadata": {
  "language_info": {
   "name": "python"
  }
 },
 "nbformat": 4,
 "nbformat_minor": 5
}
