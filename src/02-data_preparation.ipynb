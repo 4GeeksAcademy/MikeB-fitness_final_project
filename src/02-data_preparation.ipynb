{
 "cells": [
  {
   "cell_type": "markdown",
   "id": "3aedab6a",
   "metadata": {},
   "source": [
    "# Data preparation"
   ]
  },
  {
   "cell_type": "code",
   "execution_count": null,
   "id": "07869300",
   "metadata": {},
   "outputs": [],
   "source": [
    "from pathlib import Path\n",
    "import pickle\n",
    "import pandas as pd\n",
    "from sklearn.preprocessing import OrdinalEncoder\n",
    "from sklearn.model_selection import train_test_split"
   ]
  },
  {
   "cell_type": "markdown",
   "id": "178e1915",
   "metadata": {},
   "source": [
    "## 1. Load raw data"
   ]
  },
  {
   "cell_type": "code",
   "execution_count": null,
   "id": "4de6c94a",
   "metadata": {},
   "outputs": [],
   "source": [
    "data_df=pd.read_csv('../data/raw/workout_fitness_tracker_data.csv')"
   ]
  },
  {
   "cell_type": "markdown",
   "id": "0832b038",
   "metadata": {},
   "source": [
    "## 2. Select features"
   ]
  },
  {
   "cell_type": "code",
   "execution_count": null,
   "id": "e2c4bce8",
   "metadata": {},
   "outputs": [],
   "source": [
    "data_df.info()"
   ]
  },
  {
   "cell_type": "markdown",
   "id": "1b9277c6",
   "metadata": {},
   "source": [
    "Given some self-report biometrics from the user we will build two models that do the following depending on user input:\n",
    "\n",
    "1. Take workout duration and predict calorie burn for each workout type (i.e. 'I am going to work out for X minutes, how many calories will I burn?').\n",
    "2. Take calorie burn and predict duration for each workout type (i.e., 'I want to burn X calories, how long do I need to work out for?').\n",
    "\n",
    "Both models will share a set of input 'biometric' features. These must be things the user is likely to know about themselves. People probably know their weight and age, but probably don't know their VO2 max.\n",
    "\n",
    "The models will differ in one of their input features and their output:\n",
    "\n",
    "1. `calorie_model` needs to take workout duration + biometrics as input features and predict calories burned.\n",
    "2. `time_model` needs to take calories burned + biometrics as input features and predict workout duration. \n",
    "\n",
    "We will use dictionaries to keep everything organized"
   ]
  },
  {
   "cell_type": "code",
   "execution_count": null,
   "id": "59769762",
   "metadata": {},
   "outputs": [],
   "source": [
    "biometric_features=[\n",
    "    'Age',\n",
    "    'Gender',\n",
    "    'Height (cm)',\n",
    "    'Weight (kg)',\n",
    "    'Workout Type',\n",
    "    'Sleep Hours',\n",
    "    'Water Intake (liters)', \n",
    "    'Resting Heart Rate (bpm)',\n",
    "    'Workout Intensity',\n",
    "    'Body Fat (%)',\n",
    "    'Mood Before Workout'\n",
    "]\n",
    "\n",
    "input_features={\n",
    "    'calorie_model': 'Workout Duration (mins)',\n",
    "    'time_model': 'Calories Burned'\n",
    "}\n",
    "\n",
    "output_features={\n",
    "    'calorie_model': 'Calories Burned',\n",
    "    'time_model': 'Workout Duration (mins)'\n",
    "}"
   ]
  },
  {
   "cell_type": "markdown",
   "id": "2620fd11",
   "metadata": {},
   "source": [
    "## 3. Encode categorical features"
   ]
  },
  {
   "cell_type": "code",
   "execution_count": null,
   "id": "4cf068d4",
   "metadata": {},
   "outputs": [],
   "source": [
    "categorical_features=['Gender', 'Workout Intensity', 'Mood Before Workout', 'Workout Duration (min)']\n",
    "\n",
    "# Your code here... I recommend sklearn's OrdinalEncoder to start with because it will let us keep the \n",
    "# number/names of features constant. We can experiment with improving encoding later if we have time."
   ]
  },
  {
   "cell_type": "markdown",
   "id": "883a7f42",
   "metadata": {},
   "source": [
    "## 4. Train-test split"
   ]
  },
  {
   "cell_type": "code",
   "execution_count": null,
   "id": "943ad6c2",
   "metadata": {},
   "outputs": [],
   "source": [
    "# Your code here...."
   ]
  },
  {
   "cell_type": "markdown",
   "id": "bd75ad5d",
   "metadata": {},
   "source": [
    "## 5. Save assets"
   ]
  },
  {
   "cell_type": "code",
   "execution_count": null,
   "id": "7bbc6053",
   "metadata": {},
   "outputs": [],
   "source": [
    "# Feature information\n",
    "with open('../data/biometric_features.pkl', 'wb') as output_file:\n",
    "    pickle.dump(biometric_features, output_file)\n",
    "\n",
    "with open('../data/input_features.pkl', 'wb') as output_file:\n",
    "    pickle.dump(input_features, output_file)\n",
    "\n",
    "with open('../data/output_features.pkl', 'wb') as output_file:\n",
    "    pickle.dump(output_features, output_file)\n",
    "\n",
    "with open('../data/categorical_features.pkl', 'wb') as output_file:\n",
    "    pickle.dump(categorical_features, output_file)\n",
    "\n",
    "# Data\n",
    "Path('../data/processed').mkdir(exist_ok=True)\n",
    "\n",
    "with open('../data/processed/all.pkl', 'wb') as output_file:\n",
    "    pickle.dump(data_df, output_file)\n",
    "\n",
    "with open('../data/processed/train.pkl', 'wb') as output_file:\n",
    "    pickle.dump(train_df, output_file)\n",
    "\n",
    "with open('../data/processed/test.pkl', 'wb') as output_file:\n",
    "    pickle.dump(test_df, output_file)"
   ]
  }
 ],
 "metadata": {
  "language_info": {
   "name": "python"
  }
 },
 "nbformat": 4,
 "nbformat_minor": 5
}
