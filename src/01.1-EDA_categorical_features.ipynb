{
 "cells": [
  {
   "cell_type": "markdown",
   "id": "d5a2a8a6",
   "metadata": {},
   "source": [
    "# EDA: categorical features"
   ]
  }
 ],
 "metadata": {
  "language_info": {
   "name": "python"
  }
 },
 "nbformat": 4,
 "nbformat_minor": 5
}
